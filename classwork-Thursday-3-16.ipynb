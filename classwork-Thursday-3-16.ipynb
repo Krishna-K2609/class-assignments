{
 "cells": [
  {
   "cell_type": "markdown",
   "metadata": {},
   "source": [
    "## Lightning Talk Schedule for Thursday, March 16th\n",
    "### Comments and questions on lightning talks\n",
    "\n",
    "\n",
    "---\n",
    "\n",
    "**09:30 Aditya Kantawala**  \n",
    "*Is it accurate to claim that fossil records near the tropics correspond to cold-blooded dinosaurs while those found towards the polar regions correspond to warm-blooded ones?*   \n",
    "*The plots have too many dinosaurs! Would have been useful to subset the data and show only a few dinosaurs or a selected family/genus.*\n",
    "\n",
    "**09:34 Justin Shieh**  \n",
    "*Interesting to learn that cetaceans share a close common ancestor with hippopotamuses!*   \n",
    "*What is the expected link between body mass/brain size and survival rates/longevity?*\n",
    "\n",
    "**09:38 Sarah Kim**  \n",
    "*Why are wolves the most common fossil? The charts were slightly confusing and may need tweaking.*\n",
    "\n",
    "**09:42 Christina Zhou**  \n",
    "*Interesting to note that even though bats are successful, they do not fossilize well so the historical record is limited. Why is this the case?*   \n",
    "*Cool iPython notebook design.*\n",
    "\n",
    "**09:46 Gayane Hovsepyan**  \n",
    "*Why does the first peak in diagnosis occurs at around 2-3 years of age?*\n",
    "\n",
    "**09:50 Roxana Nojoumi**    \n",
    "*Lack of horses in Central Asia; what about Genghis Khan's horses?*\n",
    "\n",
    "**09:54 Cooper Kass**    \n",
    "*What do you expect to see in terms of biological invasions?*\n",
    "\n",
    "**09:58 Jeffrey Lee**   \n",
    "*When did the different sub-families become extinct?*\n",
    "\n",
    "**10:02 Laura Trejo**   \n",
    "*Why are neoaves only restricted to tropical regions now if they were present in Europe at one point?*\n",
    "\n",
    "**10:06 Jin Kim**    \n",
    "*Interesting to note the narrow distribution of the longest-range birds!*\n",
    "\n",
    "**10:10 Marina Salama**    \n",
    "*In the final plot, why is there a gap in data? Is this due to measurement errors?*\n",
    " \n",
    "**10:14 Erin Solis**    \n",
    "*Stable speciation rates but very high extinction rates! Is this due to environmental (e.g. climate variability) or anthropogenic factors (land use change, etc)?*\n",
    "\n",
    "**10:18 Sean Mathew**    \n",
    "*Cool animation! It might be useful to add a title to each map in the animation to indicate the period that the map is depicitng.*\n",
    "\n",
    "**10:22 Tiffany Dang**  \n",
    "*As with other species, there is a rapid decrease in diversificaiton in the recent past for *Mustelidae*.*\n",
    "\n",
    "---\n"
   ]
  },
  {
   "cell_type": "code",
   "execution_count": null,
   "metadata": {
    "collapsed": true
   },
   "outputs": [],
   "source": []
  }
 ],
 "metadata": {
  "anaconda-cloud": {},
  "kernelspec": {
   "display_name": "Python [conda root]",
   "language": "python",
   "name": "conda-root-py"
  },
  "language_info": {
   "codemirror_mode": {
    "name": "ipython",
    "version": 3
   },
   "file_extension": ".py",
   "mimetype": "text/x-python",
   "name": "python",
   "nbconvert_exporter": "python",
   "pygments_lexer": "ipython3",
   "version": "3.5.2"
  }
 },
 "nbformat": 4,
 "nbformat_minor": 2
}
