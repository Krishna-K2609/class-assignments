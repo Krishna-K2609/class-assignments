{
 "cells": [
  {
   "cell_type": "markdown",
   "metadata": {},
   "source": [
    "## Lightning Talk Schedule for Thursday, March 16th\n",
    "### Comments and questions on lightning talks\n",
    "\n",
    "\n",
    "---\n",
    "\n",
    "**09:30 Aditya Kantawala**  \n",
    "*asas*\n",
    "\n",
    "**09:34 Justin Shieh**  \n",
    "\n",
    "**09:38 Sarah Kim**  \n",
    "\n",
    "**09:42 Christina Zhou**  \n",
    "\n",
    "**09:46 Gayane Hovsepyan**  \n",
    "\n",
    "**09:50 Roxana Nojoumi**    \n",
    "\n",
    "**09:54 Cooper Kass**    \n",
    "\n",
    "**09:58 Jeffrey Lee**   \n",
    "\n",
    "**10:02 Laura Trejo**   \n",
    "\n",
    "**10:06 Jin Kim**    \n",
    "\n",
    "**10:10 Marina Salama**    \n",
    " \n",
    "**10:14 Erin Solis**    \n",
    "\n",
    "**10:18 Sean Mathew**    \n",
    "\n",
    "**10:22 Tiffany Dang**    "
   ]
  },
  {
   "cell_type": "code",
   "execution_count": null,
   "metadata": {
    "collapsed": true
   },
   "outputs": [],
   "source": []
  }
 ],
 "metadata": {
  "anaconda-cloud": {},
  "kernelspec": {
   "display_name": "Python [conda root]",
   "language": "python",
   "name": "conda-root-py"
  },
  "language_info": {
   "codemirror_mode": {
    "name": "ipython",
    "version": 3
   },
   "file_extension": ".py",
   "mimetype": "text/x-python",
   "name": "python",
   "nbconvert_exporter": "python",
   "pygments_lexer": "ipython3",
   "version": "3.5.2"
  }
 },
 "nbformat": 4,
 "nbformat_minor": 2
}
