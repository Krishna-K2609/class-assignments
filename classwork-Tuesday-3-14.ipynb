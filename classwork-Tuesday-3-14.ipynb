{
 "cells": [
  {
   "cell_type": "markdown",
   "metadata": {},
   "source": [
    "## Class participation, Tuesday 14th March\n",
    "\n",
    "This notebook includes questions and comments for each presentation."
   ]
  },
  {
   "cell_type": "markdown",
   "metadata": {},
   "source": [
    "**09:30 Kelsey Jiang**\n",
    "\n",
    "*\n",
    "\n",
    "**09:34 Dominique Castro**\n",
    "\n",
    "**09:38 Linna Sun**\n",
    "\n",
    "**09:42 Ashen Parikh**\n",
    "\n",
    "**09:46 Matthew Muia**\n",
    "\n",
    "**09:50 Antonella Gonzalez**\n",
    "\n",
    "**09:54 Yee Chau**\n",
    "\n",
    "**09:58 Kristen Lee**\n",
    "\n",
    "**10:02 Madison Downing**\n",
    "\n",
    "**10:06 Youstina Salama**\n",
    "\n",
    "**10:10 Jeremy Wadowski**\n",
    "\n",
    "**10:14 Mehdi Nojoumi**\n",
    "\n",
    "**10:18 Junghoon Kim**\n",
    "\n",
    "**10:22 Dustin Wong**\n",
    "\n",
    "**10:26 Hyein Kil**\n"
   ]
  },
  {
   "cell_type": "code",
   "execution_count": null,
   "metadata": {
    "collapsed": true
   },
   "outputs": [],
   "source": []
  }
 ],
 "metadata": {
  "anaconda-cloud": {},
  "kernelspec": {
   "display_name": "Python [conda root]",
   "language": "python",
   "name": "conda-root-py"
  },
  "language_info": {
   "codemirror_mode": {
    "name": "ipython",
    "version": 3
   },
   "file_extension": ".py",
   "mimetype": "text/x-python",
   "name": "python",
   "nbconvert_exporter": "python",
   "pygments_lexer": "ipython3",
   "version": "3.5.2"
  }
 },
 "nbformat": 4,
 "nbformat_minor": 2
}
