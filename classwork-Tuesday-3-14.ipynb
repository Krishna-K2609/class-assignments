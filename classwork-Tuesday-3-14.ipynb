{
 "cells": [
  {
   "cell_type": "markdown",
   "metadata": {},
   "source": [
    "## Class participation, Tuesday 14th March\n",
    "\n",
    "This notebook includes questions and comments for each presentation."
   ]
  },
  {
   "cell_type": "markdown",
   "metadata": {},
   "source": [
    "**09:30 Kelsey Jiang**\n",
    "\n",
    "*Excellent design*\n",
    "*Why does speciation for Selachii peak in the modern era?*\n",
    "\n",
    "**09:34 Dominique Castro**\n",
    "\n",
    "*The first chart showed both genera and species in the same plot; the chart could be improved by doing separate charts for species and genera separately.*\n",
    "*What is the advantage of doing bar charts over other visualization methods?*\n",
    "\n",
    "**09:38 Linna Sun**\n",
    "\n",
    "*The maps show several Proboscidea fossils in North America; why did these become extinct?*\n",
    "\n",
    "**09:42 Ashen Parikh**\n",
    "\n",
    "*Interesting project looking at cooperation patterns*\n",
    "*Why are players in the United States more likely to cooperate?*\n",
    "\n",
    "**09:46 Matthew Muia**\n",
    "\n",
    "*Why are there differences between growth indicators in the two sites? Why are the Chico trees growing so much faster?*\n",
    "\n",
    "**09:50 Antonella Gonzalez**\n",
    "\n",
    "*What species has the longest occurrence (it appears to have existed for the entire fossil record of Alligatoridae)?*\n",
    "\n",
    "**09:54 Yee Chau**\n",
    "\n",
    "*The plot showing all fossil occurrences is difficult to interpret due to the number of species and their long fossil records.*\n",
    "*For the map produced in R, why are there fewer records in North America in the post-era collection?*\n",
    "\n",
    "**09:58 Kristen Lee**\n",
    "\n",
    "*Placental mammals (Pilosa): Most records appear to be in North and South America; why are there few records in Asia?*\n",
    "\n",
    "**10:02 Madison Downing**\n",
    "\n",
    "*The analysis focuses on birds and mammals; very large dataset!*\n",
    "*Where is there overlap between birds and mammals? And what is the significance of this overlap*\n",
    "\n",
    "**10:06 Youstina Salama**\n",
    "\n",
    "*Why is species richness for the clade of interest higher at present (Haplorhini)?*\n",
    "\n",
    "**10:10 Jeremy Wadowski**\n",
    "\n",
    "*Interesting project looking at heart rates among triathletes.*\n",
    "*Were most people below their threshold? And why is that significant?*\n",
    "\n",
    "**10:14 Mehdi Nojoumi**\n",
    "\n",
    "*What is an ARD model?*\n",
    "*Which species are more likely to be affected by atherosclerosis?*\n",
    "\n",
    "**10:18 Junghoon Kim**\n",
    "\n",
    "*Why is it important to look at circadian rhythms of cockroaches under different lights? What is the relationship between circadian rhythms and geography of the cockroaches (i.e. why is it important to map occurrence data)?*\n",
    "\n",
    "**10:22 Dustin Wong**\n",
    "\n",
    "*Which time period is linked to the highest number of species?*\n",
    "*Why are there so many species with a limited range?*\n",
    "\n",
    "**10:26 Hyein Kil**\n",
    "\n",
    "*Why are there fewer occurrences of the American duck in the earlier geological period?*"
   ]
  },
  {
   "cell_type": "code",
   "execution_count": null,
   "metadata": {
    "collapsed": true
   },
   "outputs": [],
   "source": []
  }
 ],
 "metadata": {
  "anaconda-cloud": {},
  "kernelspec": {
   "display_name": "Python [conda root]",
   "language": "python",
   "name": "conda-root-py"
  },
  "language_info": {
   "codemirror_mode": {
    "name": "ipython",
    "version": 3
   },
   "file_extension": ".py",
   "mimetype": "text/x-python",
   "name": "python",
   "nbconvert_exporter": "python",
   "pygments_lexer": "ipython3",
   "version": "3.5.2"
  }
 },
 "nbformat": 4,
 "nbformat_minor": 2
}
