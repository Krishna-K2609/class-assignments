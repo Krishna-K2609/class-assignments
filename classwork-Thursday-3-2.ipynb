{
 "cells": [
  {
   "cell_type": "markdown",
   "metadata": {},
   "source": [
    "# Occurrences of canid fossil\n",
    "\n",
    "We want to get the first and last occurrence of every species in the canids.csv file.\n",
    "\n",
    "The output should be a new file including genus, species, earliest appearance, latest appearance information.\n",
    "\n",
    "\n",
    "\n",
    "** First step: Clean the data **\n",
    "```\n",
    "tail -n+18 pbdb_data.csv > canids.csv\n",
    "```"
   ]
  },
  {
   "cell_type": "code",
   "execution_count": 13,
   "metadata": {
    "collapsed": false
   },
   "outputs": [],
   "source": [
    "# data = open(\"/home/eeb177-student/Desktop/eeb177/class-assignments/canids/canids.csv\", encoding = \"ISO-8859-1\")"
   ]
  },
  {
   "cell_type": "code",
   "execution_count": 2,
   "metadata": {
    "collapsed": false
   },
   "outputs": [],
   "source": [
    "in_file = \"/home/eeb177-student/Desktop/eeb177/class-assignments/canids/canids.csv\"\n",
    "with open(in_file) as f:\n",
    "    canid_records = f.readlines()[1:]\n",
    "    # read only non-header lines"
   ]
  },
  {
   "cell_type": "code",
   "execution_count": 3,
   "metadata": {
    "collapsed": false
   },
   "outputs": [],
   "source": [
    "# use defaultdict\n",
    "from collections import defaultdict\n",
    "\n",
    "species_ranges = defaultdict(list)\n",
    "\n",
    "# for loop to read every line\n",
    "for line in canid_records: # each row is a list \n",
    "    species = line.split('\",\"')[5]\n",
    "    minage = line.split('\",\"')[10]\n",
    "    maxage = line.split('\",\"')[11]\n",
    "    mean_age = (float(minage) + float(maxage))/2\n",
    "    #print(mean_age)\n",
    "    \n",
    "    # populate dictionary\n",
    "    species_ranges[species].append(mean_age) #adding speci"
   ]
  },
  {
   "cell_type": "code",
   "execution_count": 13,
   "metadata": {
    "collapsed": false
   },
   "outputs": [],
   "source": [
    "# create empty file\n",
    "output = open(\"canid-ranges.csv\", \"w\")\n",
    "\n",
    "for key in species_ranges.keys():\n",
    "    ages = species_ranges[keys]\n",
    "    minage = min(ages)\n",
    "    maxage = max(ages)\n",
    "    genus = key.split(\" \")[0]\n",
    "    \n",
    "#     print(genus, key, minage, maxage)\n",
    "    outline = \"{},{},{},{}\\n\".format(genus, key, minage, maxage)\n",
    "#     output.write(genus + \",\" + key + \",\" + str(minage) + \",\" + str(maxage) + \"\\n\")\n",
    "    output.write(outline)\n",
    "\n",
    "    # almost there. we will need to remove the incidences where the records only specify genera"
   ]
  },
  {
   "cell_type": "code",
   "execution_count": null,
   "metadata": {
    "collapsed": true
   },
   "outputs": [],
   "source": []
  }
 ],
 "metadata": {
  "anaconda-cloud": {},
  "kernelspec": {
   "display_name": "Python [conda root]",
   "language": "python",
   "name": "conda-root-py"
  },
  "language_info": {
   "codemirror_mode": {
    "name": "ipython",
    "version": 3
   },
   "file_extension": ".py",
   "mimetype": "text/x-python",
   "name": "python",
   "nbconvert_exporter": "python",
   "pygments_lexer": "ipython3",
   "version": "3.5.2"
  }
 },
 "nbformat": 4,
 "nbformat_minor": 2
}
