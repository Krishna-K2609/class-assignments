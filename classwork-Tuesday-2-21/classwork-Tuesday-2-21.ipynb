{
 "cells": [
  {
   "cell_type": "markdown",
   "metadata": {},
   "source": [
    "## Exploring a new dataset\n",
    "\n",
    "**Downloading the dataset.**\n",
    "\n",
    "Using the commands in the directory classwork-Tuesday-2-21\n",
    "```\n",
    "wget http://ctfs.si.edu/webatlas/datasets/cocoli/cocoli.zip\n",
    "unzip cocoli.zip\n",
    "```"
   ]
  },
  {
   "cell_type": "markdown",
   "metadata": {},
   "source": [
    "Each row in `cocoli.txt` represents census measurements (diameter at breast height, date of measurement, etc.) for a single tree.   \n",
    "\n",
    "Each row in `cocolisp.txt` represents a code and its associated species."
   ]
  },
  {
   "cell_type": "markdown",
   "metadata": {},
   "source": [
    "## Guided exploration of the data\n",
    "\n",
    "**Consider the species with tag 000011.**\n",
    "```\n",
    "grep 000011 cocoli.txt \n",
    "\n",
    "```\n",
    "\n",
    "**What does the entry in column `multi2` refer to?**   \n",
    "Number of stems the plant with tag 000011 has at 1.3m during the second census. The plant has 4 stems.\n",
    "\n",
    "**What does the entry in the column `dbh2` refer to?**   \n",
    "Diameter at breast height (in mm) of plant 000011 during the second sensus. The dbh is 69 mm.\n",
    "\n",
    "**How can we find the genus and species name of this record?**   \n",
    "`spcode` is CAL2CA. We can refer to the `cocolisp.txt` file using the command `grep CAL2CA cocolisp.txt`\n",
    "\n",
    "**What is the genus and species name of this record?**   \n",
    "The `cocolisp.txt` file indicates that this code refers to *Calycophyllum candidissimum*, in the Family *Rubiaceae*."
   ]
  },
  {
   "cell_type": "markdown",
   "metadata": {},
   "source": [
    "## Guided exploration of the data, part 2\n",
    "\n",
    "**What happened to individual 000001 between 1994 and 1998?**   \n",
    "The tree grew by almost 90 mm.\n",
    "\n",
    "**What about individual 000029?**   \n",
    "The tree died between the censuses."
   ]
  },
  {
   "cell_type": "markdown",
   "metadata": {},
   "source": [
    "## Interesting questions\n",
    "\n",
    "**Which species of tree have the highest growth rate?** *(in terms of dbh or number of stems, and in which period: 1994-1997 or 1997-1998)*\n",
    "\n",
    "**Which species of tree died?** *(and when?)*\n",
    "\n",
    "**Which species died the most?**\n",
    "\n",
    "**Which trees were recorded incorrectly (measurement errors)?**\n",
    "\n",
    "**Which species were leaning the most?**"
   ]
  },
  {
   "cell_type": "markdown",
   "metadata": {},
   "source": [
    "**What is the most represented species?**\n",
    "\n",
    "Reformatting .txt file to make it into a .csv file with `sed`\n",
    "```\n",
    "sed 's/\\s/,/g' cocolisp.txt > formatted_cocolisp.txt\n",
    "cat formatted_cocolisp.txt | cut -d \",\" -f 2 | tail -n+2 | sort | uniq -c | sort -n\n",
    "```\n",
    "Piper is the Genus most represented.\n",
    "\n",
    "**How many genera have only one species?**\n",
    "```\n",
    "cat formatted_cocolisp.txt | cut -d \",\" -f 2 | tail -n+2 | sort | uniq -c | sort -n | grep -w \"1\" | wc -l\n",
    "```\n",
    "98 genera only have one species represented in this forest.\n",
    "\n",
    "**How many genera are in the dataset?**\n",
    "```\n",
    "cat formatted_cocolisp.txt | cut -d \",\" -f 2 | tail -n+2 | sort | uniq -c | sort -n | wc -l\n",
    "```\n",
    "126 unique genera"
   ]
  },
  {
   "cell_type": "markdown",
   "metadata": {},
   "source": [
    "## Use python code to calculate relative growth rate. RGR = (dbh(t+1)-dbh(t)) / dbh(t)"
   ]
  },
  {
   "cell_type": "markdown",
   "metadata": {},
   "source": [
    "**The first step is to read the data**\n",
    "\n",
    "ff = cocoli.txt and make it readable\n",
    "\n",
    "**Create an empty dictionary with individuals' tags and dbh values for the three periods individually**\n",
    "my_dict1 = {tag: dbh1}\n",
    "my_dict2 = {tag: dbh2}\n",
    "my_dict3 = {tag: dbh3}\n",
    "\n",
    "**The next step is to create an empty list for the 1994, 1997, and 1998 values\"\n",
    "\n",
    "dbh1 = [list of dbh1 values]\n",
    "dbh2 = [list of dbh2 values]\n",
    "dbh3 = [list of dbh3 values]\n",
    "\n",
    "**The next step is to calculate RGR**\n",
    "m\n"
   ]
  }
 ],
 "metadata": {
  "anaconda-cloud": {},
  "kernelspec": {
   "display_name": "Python [conda root]",
   "language": "python",
   "name": "conda-root-py"
  },
  "language_info": {
   "codemirror_mode": {
    "name": "ipython",
    "version": 3
   },
   "file_extension": ".py",
   "mimetype": "text/x-python",
   "name": "python",
   "nbconvert_exporter": "python",
   "pygments_lexer": "ipython3",
   "version": "3.5.2"
  }
 },
 "nbformat": 4,
 "nbformat_minor": 2
}
