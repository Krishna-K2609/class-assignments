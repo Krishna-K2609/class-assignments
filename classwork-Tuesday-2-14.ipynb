{
 "cells": [
  {
   "cell_type": "code",
   "execution_count": 34,
   "metadata": {
    "collapsed": false
   },
   "outputs": [
    {
     "name": "stdout",
     "output_type": "stream",
     "text": [
      "atcttcagaga\n",
      "ggtct\n"
     ]
    }
   ],
   "source": [
    "seq = \"ATCTTCAGAGA\"\n",
    "seq2 = \"GGTCT\"\n",
    "\n",
    "seq = seq.replace(\"A\", \"a\")\n",
    "seq = seq.replace(\"T\", \"t\")\n",
    "seq = seq.replace(\"C\", \"c\")\n",
    "\n",
    "# painful, manual way to carry out a task\n",
    "\n",
    "print(seq.lower())\n",
    "print(seq2.lower())\n",
    "\n",
    "# but lower case (.lower()) function makes this easier"
   ]
  },
  {
   "cell_type": "code",
   "execution_count": 18,
   "metadata": {
    "collapsed": true
   },
   "outputs": [],
   "source": [
    "def greeter():\n",
    "    print(\"Welcome!\")\n",
    "    print(\"This function does not take any arguments.\")\n",
    "    \n",
    "# function does not take any arguments"
   ]
  },
  {
   "cell_type": "code",
   "execution_count": 19,
   "metadata": {
    "collapsed": false
   },
   "outputs": [
    {
     "name": "stdout",
     "output_type": "stream",
     "text": [
      "Welcome!\n",
      "This function does not take any arguments.\n"
     ]
    }
   ],
   "source": [
    "greeter()\n",
    "\n",
    "# needs the parentheses to execute function"
   ]
  },
  {
   "cell_type": "code",
   "execution_count": 31,
   "metadata": {
    "collapsed": true
   },
   "outputs": [],
   "source": [
    "def stringAnalyzer(s):\n",
    "    length = len(s)\n",
    "    yy = 26\n",
    "    zz = yy + length\n",
    "    print(\"This string has {} characters\".format(length))\n",
    "    return zz"
   ]
  },
  {
   "cell_type": "code",
   "execution_count": 32,
   "metadata": {
    "collapsed": false
   },
   "outputs": [
    {
     "name": "stdout",
     "output_type": "stream",
     "text": [
      "This string has 7 characters\n"
     ]
    },
    {
     "data": {
      "text/plain": [
       "33"
      ]
     },
     "execution_count": 32,
     "metadata": {},
     "output_type": "execute_result"
    }
   ],
   "source": [
    "stringAnalyzer(\"welcome\")"
   ]
  },
  {
   "cell_type": "code",
   "execution_count": 35,
   "metadata": {
    "collapsed": false
   },
   "outputs": [
    {
     "name": "stdout",
     "output_type": "stream",
     "text": [
      "This string has 11 characters\n",
      "37\n"
     ]
    }
   ],
   "source": [
    "longer_length = stringAnalyzer(seq)\n",
    "print(longer_length)"
   ]
  },
  {
   "cell_type": "code",
   "execution_count": 124,
   "metadata": {
    "collapsed": false
   },
   "outputs": [
    {
     "name": "stdout",
     "output_type": "stream",
     "text": [
      "0.6\n",
      "0.46153846\n"
     ]
    }
   ],
   "source": [
    "def get_at_content(dna, sigfig):\n",
    "    dna = dna.upper() # make sure the string is uppercase\n",
    "    length = len(dna)\n",
    "    a_count = dna.count('A')\n",
    "    t_count = dna.count('T')\n",
    "    at_content = ((a_count + t_count) / length) # can also multiply by 100 to express as percentage; add \"* 100\"\n",
    "    return round(at_content, sigfig) # rounds to the sig. figs. defined\n",
    "\n",
    "print(get_at_content(\"ATGCATGCATCGAATGTTCC\", 1))\n",
    "print(get_at_content(\"aaactctacgagatagacctccgcgc\", 8))"
   ]
  },
  {
   "cell_type": "code",
   "execution_count": 125,
   "metadata": {
    "collapsed": false
   },
   "outputs": [],
   "source": [
    "# Variables inside the function are not available once we've left the function\n",
    "\n",
    "seq = \"ATTTAACGTACAC\"\n",
    "def get_at_content(dna):\n",
    "    dna_list = []\n",
    "    dna = dna.upper() # make sure the string is uppercase\n",
    "    length = len(dna)\n",
    "    a_count = dna.count('A')\n",
    "    t_count = dna.count('T')\n",
    "    at_content = ((a_count + t_count) / length) # can also multiply by 100 to express as percentage; add \"* 100\"\n",
    "    dna_list = [length, a_count, t_count, at_content] # we can create and populate the list at the same time in Python so dna_list at the top of the function is not needed\n",
    "#     dna_list.append(length)\n",
    "#     dna_list.append(a_count)\n",
    "#     dna_list.append(t_count)\n",
    "#     dna_list.append(at_content)\n",
    "    return dna_list\n",
    "\n",
    "res = get_at_content(seq)\n"
   ]
  },
  {
   "cell_type": "code",
   "execution_count": 117,
   "metadata": {
    "collapsed": false
   },
   "outputs": [
    {
     "data": {
      "text/plain": [
       "0.6923076923076923"
      ]
     },
     "execution_count": 117,
     "metadata": {},
     "output_type": "execute_result"
    }
   ],
   "source": [
    "res[-1]\n",
    "\n",
    "# res[3] would also work"
   ]
  },
  {
   "cell_type": "markdown",
   "metadata": {},
   "source": [
    "## In-class challenge\n",
    "\n",
    "** Create a function that will count all bases. **"
   ]
  },
  {
   "cell_type": "code",
   "execution_count": 118,
   "metadata": {
    "collapsed": false
   },
   "outputs": [],
   "source": [
    "def base_counter(dna):\n",
    "    base_dict = {} # dictionary will hold my counts\n",
    "    for letters in \"ATCG\":\n",
    "        count = dna.upper().count(letters)\n",
    "        base_dict[letters] = count\n",
    "#         print(letters + \"=\" + str(count))\n",
    "    return base_dict\n",
    "        "
   ]
  },
  {
   "cell_type": "code",
   "execution_count": 119,
   "metadata": {
    "collapsed": false
   },
   "outputs": [
    {
     "name": "stdout",
     "output_type": "stream",
     "text": [
      "{'G': 5, 'C': 5, 'A': 3, 'T': 7}\n"
     ]
    }
   ],
   "source": [
    "dna = (\"atcgctctCttAggggattc\")\n",
    "dd = base_counter(dna)\n",
    "print(dd)\n",
    "\n",
    "# It works!"
   ]
  },
  {
   "cell_type": "code",
   "execution_count": null,
   "metadata": {
    "collapsed": false
   },
   "outputs": [],
   "source": []
  },
  {
   "cell_type": "code",
   "execution_count": null,
   "metadata": {
    "collapsed": true
   },
   "outputs": [],
   "source": []
  }
 ],
 "metadata": {
  "anaconda-cloud": {},
  "kernelspec": {
   "display_name": "Python [conda root]",
   "language": "python",
   "name": "conda-root-py"
  },
  "language_info": {
   "codemirror_mode": {
    "name": "ipython",
    "version": 3
   },
   "file_extension": ".py",
   "mimetype": "text/x-python",
   "name": "python",
   "nbconvert_exporter": "python",
   "pygments_lexer": "ipython3",
   "version": "3.5.2"
  }
 },
 "nbformat": 4,
 "nbformat_minor": 2
}
