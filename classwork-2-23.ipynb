{
 "cells": [
  {
   "cell_type": "markdown",
   "metadata": {},
   "source": [
    "## Scraping in the shell\n",
    "\n",
    "**Extract fisheries from fishbase.**\n",
    "\n",
    "Using command\n",
    "```\n",
    "curl\"http://fishbase.org/Summary/SpeciesSummary.php?ID=4249&AT=starry+flounder\" > fish.html | grep \"Fisheries:\" fish.html | cut -d \";\" -f 1\n",
    "```\n",
    "\n",
    "We get \n",
    "\n",
    "`Fisheries: commercial`\n",
    "\n",
    "This can be saved into another file using `>`\n"
   ]
  },
  {
   "cell_type": "markdown",
   "metadata": {},
   "source": [
    "```\n",
    "curl \"http://fishbase.us/summary/SpeciesSummary.php?ID=[10-20]\" | grep Fisheries: | cut -d \";\" -f 1\n",
    "```\n",
    "\n",
    "This command will display the Fisheries status for species 10-20\n",
    "\n",
    "\n",
    "Fisheries: commercial\n",
    "Fisheries: minor commercial\t\t</span>\n",
    "Fisheries: highly commercial\n",
    "Fisheries: highly commercial\n",
    "Fisheries: minor commercial\n",
    "Fisheries: commercial\n",
    "Fisheries: commercial\n",
    "Fisheries: minor commercial\n",
    "Fisheries: minor commercial\t\n",
    "\n",
    "Note: Additional cleaning is needed to remove \"< /span >\""
   ]
  },
  {
   "cell_type": "markdown",
   "metadata": {},
   "source": [
    "## Scraping in Python"
   ]
  },
  {
   "cell_type": "code",
   "execution_count": 19,
   "metadata": {
    "collapsed": false
   },
   "outputs": [
    {
     "name": "stdout",
     "output_type": "stream",
     "text": [
      "Chaenocephalus aceratus\n",
      "Channichthys aelitae\n",
      "Cryodraco antarcticus\n",
      "Cryodraco atkinsoni\n",
      "Channichthys bospori\n",
      "Chaenocephalus aceratus\n",
      "Chionobathyscus dewitti\n",
      "Champsocephalus esox\n",
      "Chaenodraco wilsoni\n",
      "Pseudochaenichthys georgianus\n",
      "Champsocephalus gunnari\n",
      "Dacodraco hunteri\n",
      "Neopagetopsis ionah\n",
      "Channichthys irinae\n",
      "Chionodraco hamatus\n",
      "Pagetopsis macropterus\n",
      "Pagetopsis maculatus\n",
      "Chionodraco myersi\n",
      "Channichthys mithridatis\n",
      "Chionodraco myersi\n",
      "Channichthys panticapaei\n",
      "Channichthys panticapaei\n",
      "Cryodraco pappenheimi\n",
      "Chionodraco rastrospinosus\n",
      "Channichthys rhinoceratus\n",
      "Chionodraco hamatus\n",
      "Channichthys richardsoni\n",
      "Channichthys rugosus\n",
      "Channichthys rhinoceratus\n",
      "Channichthys velifer\n",
      "Chaenodraco wilsoni\n"
     ]
    },
    {
     "name": "stderr",
     "output_type": "stream",
     "text": [
      "/home/eeb177-student/miniconda3/lib/python3.5/site-packages/bs4/__init__.py:181: UserWarning: No parser was explicitly specified, so I'm using the best available HTML parser for this system (\"html.parser\"). This usually isn't a problem, but if you run this code on another system, or in a different virtual environment, it may use a different parser and behave differently.\n",
      "\n",
      "The code that caused this warning is on line 184 of the file /home/eeb177-student/miniconda3/lib/python3.5/runpy.py. To get rid of this warning, change code that looks like this:\n",
      "\n",
      " BeautifulSoup([your markup])\n",
      "\n",
      "to this:\n",
      "\n",
      " BeautifulSoup([your markup], \"html.parser\")\n",
      "\n",
      "  markup_type=markup_type))\n"
     ]
    }
   ],
   "source": [
    "# Scraping in Python\n",
    "\n",
    "import urllib.request\n",
    "from bs4 import BeautifulSoup\n",
    "\n",
    "family_url = \"http://fishbase.org/Nomenclature/NominalSpeciesList.php?Family=Channichthyidae\"\n",
    "\n",
    "# We want text between <i> tags that are between <a> tags\n",
    "\n",
    "html = urllib.request.urlopen(family_url)\n",
    "html_doc = html.read()\n",
    "html.close()\n",
    "\n",
    "soup = BeautifulSoup(html_doc)\n",
    "\n",
    "# find all links\n",
    "links = soup.find_all(\"a\") # this is a list of all links\n",
    "# print(links)\n",
    "for link in links:\n",
    "    # find all italic tags within each link\n",
    "    italics = link.find_all(\"i\")\n",
    "    for italic in italics:\n",
    "        # this is the species name\n",
    "        print(italic.string)"
   ]
  },
  {
   "cell_type": "code",
   "execution_count": 25,
   "metadata": {
    "collapsed": false
   },
   "outputs": [],
   "source": [
    "# JSON API\n",
    "\n",
    "import urllib.request\n",
    "import json\n",
    "\n",
    "api_url = \"https://fishbase.ropensci.org/species/?genus=Platichthys&species=stellatus\"\n",
    "raw_json = urllib.request.urlopen(api_url)\n",
    "decoded_json = raw_json.read().decode('utf-8')\n",
    "parsed_json = json.loads(decoded_json) ## we use the json.load method directly\n",
    "raw_json.close()"
   ]
  },
  {
   "cell_type": "code",
   "execution_count": 32,
   "metadata": {
    "collapsed": false
   },
   "outputs": [
    {
     "data": {
      "text/plain": [
       "dict_keys(['WeightFemale', 'PriceReliability', 'ImportanceRef', 'PictureFemale', 'SubGenCode', 'LifeCycle', 'Vulnerability', 'Comments', 'DateModified', 'PicPreferredName', 'UsedforAquaculture', 'ElectroRef', 'Fresh', 'GoogleImage', 'LTypeMaxM', 'Aquarium', 'GameFish', 'MCastnets', 'Landings', 'DepthRangeShallow', 'LongevityCapRef', 'Modified', 'LongevityCaptive', 'DepthRangeComShallow', 'BodyShapeI', 'Importance', 'Saltwater', 'Source', 'Remarks7', 'GameRef', 'UsedasBait', 'LengthFemale', 'DateEntered', 'FBname', 'Brack', 'DateChecked', 'Emblematic', 'LongevityWildRef', 'TS', 'BaitRef', 'Electrogenic', 'MHooksLines', 'MigratRef', 'LTypeMaxF', 'MainCatchingMethod', 'TaxIssue', 'Species', 'PicPreferredNameJ', 'Expert', 'MTrawls', 'Weight', 'LandingStatistics', 'II', 'GenCode', 'MLiftnets', 'Pic', 'SpeciesRefNo', 'DepthRangeRef', 'SpecCode', 'LarvaPic', 'FamCode', 'EggPic', 'Length', 'DepthRangeComDeep', 'PicPreferredNameM', 'DemersPelag', 'LTypeComM', 'LTypeComF', 'AquacultureRef', 'CommonLengthF', 'AnaCat', 'DangerousRef', 'MaxWeightRef', 'DepthRangeDeep', 'MGillnets', 'AquariumRef', 'MDredges', 'Profile', 'MSpears', 'Dangerous', 'PriceCateg', 'Genus', 'MTraps', 'Author', 'Entered', 'Remark', 'CommonLength', 'MSeines', 'LongevityWild', 'MOther', 'DepthComRef', 'CommonLengthRef', 'Complete', 'MaxLengthRef', 'AuthorRef', 'AquariumFishII', 'Subfamily', 'PicPreferredNameF', 'PD50'])"
      ]
     },
     "execution_count": 32,
     "metadata": {},
     "output_type": "execute_result"
    }
   ],
   "source": [
    "parsed_json[\"data\"][0].keys()"
   ]
  },
  {
   "cell_type": "code",
   "execution_count": null,
   "metadata": {
    "collapsed": true
   },
   "outputs": [],
   "source": []
  }
 ],
 "metadata": {
  "anaconda-cloud": {},
  "kernelspec": {
   "display_name": "Python [conda root]",
   "language": "python",
   "name": "conda-root-py"
  },
  "language_info": {
   "codemirror_mode": {
    "name": "ipython",
    "version": 3
   },
   "file_extension": ".py",
   "mimetype": "text/x-python",
   "name": "python",
   "nbconvert_exporter": "python",
   "pygments_lexer": "ipython3",
   "version": "3.5.2"
  }
 },
 "nbformat": 4,
 "nbformat_minor": 2
}
