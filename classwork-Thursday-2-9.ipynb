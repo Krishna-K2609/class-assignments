{
 "cells": [
  {
   "cell_type": "code",
   "execution_count": 4,
   "metadata": {
    "collapsed": false
   },
   "outputs": [
    {
     "name": "stdout",
     "output_type": "stream",
     "text": [
      "Homo is an ape.\n",
      "\n",
      "\n",
      "Pan is an ape.\n",
      "\n",
      "\n",
      "Gorilla is an ape.\n",
      "\n",
      "\n"
     ]
    }
   ],
   "source": [
    "apes = [\"Homo\", \"Pan\", \"Gorilla\"]\n",
    "\n",
    "for ape in apes:\n",
    "    print(str(ape) + \" is an ape.\")\n",
    "    print('\\n')"
   ]
  },
  {
   "cell_type": "code",
   "execution_count": 10,
   "metadata": {
    "collapsed": false
   },
   "outputs": [
    {
     "name": "stdout",
     "output_type": "stream",
     "text": [
      "Homo is an ape. Its name starts with H\n",
      "Its name has 4 letters.\n",
      "\n",
      "\n",
      "Pan is an ape. Its name starts with P\n",
      "Its name has 3 letters.\n",
      "\n",
      "\n",
      "Gorilla is an ape. Its name starts with G\n",
      "Its name has 7 letters.\n",
      "\n",
      "\n"
     ]
    }
   ],
   "source": [
    "for ape in apes:\n",
    "    name_length = len(ape)\n",
    "    first_letter = ape[0]\n",
    "    print(str(ape) + \" is an ape. Its name starts with \" + str(first_letter))\n",
    "    print(\"Its name has \" + str(name_length) + \" letters.\")\n",
    "    print(\"\\n\")"
   ]
  },
  {
   "cell_type": "code",
   "execution_count": 11,
   "metadata": {
    "collapsed": false
   },
   "outputs": [
    {
     "name": "stdout",
     "output_type": "stream",
     "text": [
      "2\n",
      "6\n",
      "10\n"
     ]
    }
   ],
   "source": [
    "for number in range (2, 14, 4):\n",
    "    print(number)\n",
    "    \n",
    "# printing number at intervals of 4 in the range (2, 14), excluding 14"
   ]
  },
  {
   "cell_type": "code",
   "execution_count": 3,
   "metadata": {
    "collapsed": false
   },
   "outputs": [
    {
     "name": "stdout",
     "output_type": "stream",
     "text": [
      "0\n",
      "1\n",
      "2\n",
      "3\n",
      "4\n",
      "5\n",
      "6\n",
      "7\n",
      "8\n",
      "9\n"
     ]
    }
   ],
   "source": [
    "count = 0\n",
    "while count <10:\n",
    "    print(count)\n",
    "    count = count + 1"
   ]
  },
  {
   "cell_type": "code",
   "execution_count": 7,
   "metadata": {
    "collapsed": false
   },
   "outputs": [
    {
     "name": "stdout",
     "output_type": "stream",
     "text": [
      "True\n"
     ]
    }
   ],
   "source": [
    "print(\"ATCGTT\".count(\"T\") > 1)\n",
    "\n",
    "# boolean statement"
   ]
  },
  {
   "cell_type": "code",
   "execution_count": 13,
   "metadata": {
    "collapsed": false
   },
   "outputs": [
    {
     "name": "stdout",
     "output_type": "stream",
     "text": [
      "gene is lowly expressed\n",
      "gene is highly expressed\n",
      "gene is lowly expressed\n",
      "gene is highly expressed\n"
     ]
    }
   ],
   "source": [
    "expression_level = [98, 101, 100, 125]\n",
    "for numbers in expression_level:\n",
    "    if numbers > 100:\n",
    "        print(\"gene is highly expressed\")\n",
    "    else:\n",
    "        print(\"gene is lowly expressed\")"
   ]
  },
  {
   "cell_type": "code",
   "execution_count": 16,
   "metadata": {
    "collapsed": false
   },
   "outputs": [
    {
     "name": "stdout",
     "output_type": "stream",
     "text": [
      "Not divisible by 2, 3 or 5\n"
     ]
    }
   ],
   "source": [
    "x = 17\n",
    "if x % 2 == 0:\n",
    "    print(\"Divisible by 2\")\n",
    "elif x % 3 == 0:\n",
    "    print(\"Divisible by 3\")\n",
    "elif x % 5 == 0:\n",
    "    print(\"Divisible by 5\")\n",
    "else:\n",
    "    print(\"Not divisible by 2, 3 or 5\")"
   ]
  },
  {
   "cell_type": "code",
   "execution_count": 17,
   "metadata": {
    "collapsed": false
   },
   "outputs": [
    {
     "name": "stdout",
     "output_type": "stream",
     "text": [
      "True\n",
      "False\n",
      "False\n"
     ]
    }
   ],
   "source": [
    "accs = ['ab56', 'bh84', 'hv76']\n",
    "for acc in accs:\n",
    "    print(acc.startswith('a') and not acc.endswith('5'))"
   ]
  },
  {
   "cell_type": "markdown",
   "metadata": {},
   "source": [
    "## Class challenge"
   ]
  },
  {
   "cell_type": "markdown",
   "metadata": {},
   "source": [
    "** STEP 1: Download file in the terminal **\n",
    "\n",
    "Used wget to get the dataset:   \n",
    "```\n",
    "cd ~/Desktop/eeb177/class-assignments/\n",
    "wget \"www.nature.com/nature/journal/vaop/ncurrent/source_data/nature21074-f1.csv\"\n",
    "```"
   ]
  },
  {
   "cell_type": "markdown",
   "metadata": {},
   "source": [
    "**STEP 2a: See the contents of the file**\n",
    "\n",
    "Used head to see contents of file:\n",
    "\n",
    "```\n",
    "head nature21074-f1.csv\n",
    "```\n",
    "\n",
    "There is a problem with the end of line character.\n",
    "\n",
    "**STEP 2b: Change /r to /n and save as new file**\n",
    "\n",
    "```\n",
    "cat nature21074-f1.csv | tr \"\\r\" \"\\n\" > formatted_nature.csv\n",
    "```"
   ]
  },
  {
   "cell_type": "markdown",
   "metadata": {},
   "source": [
    "**Find unique families**\n",
    "\n",
    "Used command \n",
    "```\n",
    "tail -n +2 formatted_nature1.csv | cut -d \",\" -f 3 | sort | uniq | wc -l\n",
    "```\n",
    "There are 194 unique families. "
   ]
  },
  {
   "cell_type": "code",
   "execution_count": null,
   "metadata": {
    "collapsed": true
   },
   "outputs": [],
   "source": [
    "**"
   ]
  }
 ],
 "metadata": {
  "anaconda-cloud": {},
  "kernelspec": {
   "display_name": "Python [conda root]",
   "language": "python",
   "name": "conda-root-py"
  },
  "language_info": {
   "codemirror_mode": {
    "name": "ipython",
    "version": 3
   },
   "file_extension": ".py",
   "mimetype": "text/x-python",
   "name": "python",
   "nbconvert_exporter": "python",
   "pygments_lexer": "ipython3",
   "version": "3.5.2"
  }
 },
 "nbformat": 4,
 "nbformat_minor": 2
}
