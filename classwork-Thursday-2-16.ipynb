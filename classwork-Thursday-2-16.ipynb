{
 "cells": [
  {
   "cell_type": "code",
   "execution_count": 48,
   "metadata": {
    "collapsed": false
   },
   "outputs": [],
   "source": [
    "nature_birds = {}\n",
    "ff = open(\"formatted_nature.csv\", \"r\", encoding = \"ISO-8859-15\")\n",
    "ss = ff.readlines()[2:]\n",
    "for line in ss:\n",
    "    sp = line.split(\",\")[0]\n",
    "    fam = line.split(\",\")[2]\n",
    "    nature_birds[sp] = fam\n",
    "ff.close()"
   ]
  },
  {
   "cell_type": "code",
   "execution_count": 51,
   "metadata": {
    "collapsed": false
   },
   "outputs": [],
   "source": [
    "# This code replicates the exercise done in the homework\n",
    "\n",
    "# d = nature_birds\n",
    "# for i in d:\n",
    "#     print('Species ' + str(i) + ' belongs to Family ' + str(d[i]))"
   ]
  },
  {
   "cell_type": "code",
   "execution_count": 43,
   "metadata": {
    "collapsed": true
   },
   "outputs": [],
   "source": [
    "def make_bird_dict(filename):\n",
    "    # This function opens the data file from Thomas et al. and extracts the species and family as a dictionary\n",
    "    \n",
    "    ff = open(filename, \"r\", encoding = \"ISO-8859-15\") # open the file\n",
    "    all_records = ff.readlines()[2:] # read the file, removing blank lines at the top of the file\n",
    "    bird_dict = {} # make a dictionary\n",
    "    for line in all_records:\n",
    "        spp = line.split(\",\")[0]\n",
    "        fam = line.split(\",\")[2]\n",
    "        # split lines on comma\n",
    "        record_elements = line.split(\",\")\n",
    "        species = record_elements[0]\n",
    "        families = record_elements[2]\n",
    "    # stick species and family into dict\n",
    "        bird_dict[species] = families\n",
    "        \n",
    "    return bird_dict"
   ]
  },
  {
   "cell_type": "code",
   "execution_count": 69,
   "metadata": {
    "collapsed": false
   },
   "outputs": [
    {
     "name": "stdout",
     "output_type": "stream",
     "text": [
      "Family of Abeillia_abeillei is Trochilidae\n"
     ]
    }
   ],
   "source": [
    "thomas_birds = make_bird_dict('formatted_nature.csv')\n",
    "\n",
    "# sorting the list. this approach won't change the actual list\n",
    "species = list(thomas_birds.keys())\n",
    "# sorted(species)\n",
    "\n",
    "# this is another way to sort the list (sort the list in place)\n",
    "species.sort()\n",
    "first_species = species[0] # show only the first species\n",
    "first_fam = thomas_birds[first_species]\n",
    "\n",
    "print(\"Family of \" + first_species + \" is \" + first_fam)\n",
    "\n",
    "# equivalent \n",
    "# print(\"family of \" + species[0] + \" is \" + thomas_birds(species[0]))"
   ]
  },
  {
   "cell_type": "code",
   "execution_count": 76,
   "metadata": {
    "collapsed": false
   },
   "outputs": [
    {
     "name": "stdout",
     "output_type": "stream",
     "text": [
      "I own 3 dogs\n",
      "I own dog 3s\n",
      "I own 3 dogs\n"
     ]
    }
   ],
   "source": [
    "def outOfOrder(number, pet):\n",
    "    print(\"I own {} {}s\".format(number, pet))\n",
    "\n",
    "# if we don't specify variables, python assumes the order of variables is the same as given in the function    \n",
    "outOfOrder(3, \"dog\")\n",
    "outOfOrder(\"dog\", 3)\n",
    "\n",
    "# if we specify variables, python will correctly assign\n",
    "outOfOrder(pet = 'dog', number = 3)"
   ]
  },
  {
   "cell_type": "code",
   "execution_count": null,
   "metadata": {
    "collapsed": true
   },
   "outputs": [],
   "source": []
  }
 ],
 "metadata": {
  "anaconda-cloud": {},
  "kernelspec": {
   "display_name": "Python [conda root]",
   "language": "python",
   "name": "conda-root-py"
  },
  "language_info": {
   "codemirror_mode": {
    "name": "ipython",
    "version": 3
   },
   "file_extension": ".py",
   "mimetype": "text/x-python",
   "name": "python",
   "nbconvert_exporter": "python",
   "pygments_lexer": "ipython3",
   "version": "3.5.2"
  }
 },
 "nbformat": 4,
 "nbformat_minor": 2
}
